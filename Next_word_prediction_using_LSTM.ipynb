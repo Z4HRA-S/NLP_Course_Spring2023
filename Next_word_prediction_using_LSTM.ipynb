{
  "cells": [
    {
      "cell_type": "markdown",
      "metadata": {
        "id": "view-in-github",
        "colab_type": "text"
      },
      "source": [
        "<a href=\"https://colab.research.google.com/github/Z4HRA-S/NLP_Course_Spring2023/blob/main/Next_word_prediction_using_LSTM.ipynb\" target=\"_parent\"><img src=\"https://colab.research.google.com/assets/colab-badge.svg\" alt=\"Open In Colab\"/></a>"
      ]
    },
    {
      "cell_type": "markdown",
      "metadata": {
        "id": "VQQ3nUHLWI1l"
      },
      "source": [
        "https://machinelearningmastery.com/text-generation-lstm-recurrent-neural-networks-python-keras/\n",
        "\n",
        "https://machinelearningmastery.com/how-to-develop-a-word-level-neural-language-model-in-keras/"
      ]
    },
    {
      "cell_type": "markdown",
      "metadata": {
        "id": "O6-NPLt4etsb"
      },
      "source": [
        "1. Predicting Next Word\n",
        "2. Pre-processing: Stem? \n",
        "3. Representing words, number or one-hots? \n",
        "4. LSTM, Motivation, Architecture, Concept"
      ]
    },
    {
      "cell_type": "code",
      "execution_count": null,
      "metadata": {
        "id": "3LTDH3MMWEs_"
      },
      "outputs": [],
      "source": [
        "# Small LSTM Network to Generate Text for Alice in Wonderland\n",
        "import numpy as np\n",
        "import nltk\n",
        "from tensorflow.keras.models import Sequential\n",
        "from tensorflow.keras.layers import Dense\n",
        "from tensorflow.keras.layers import Dropout\n",
        "from tensorflow.keras.layers import LSTM\n",
        "from tensorflow.keras.callbacks import ModelCheckpoint\n",
        "from tensorflow.keras.utils import to_categorical\n",
        "from keras.layers import Embedding\n",
        "from keras.preprocessing.text import Tokenizer"
      ]
    },
    {
      "cell_type": "code",
      "execution_count": null,
      "metadata": {
        "colab": {
          "base_uri": "https://localhost:8080/"
        },
        "id": "vz0mgk5O9VwC",
        "outputId": "1f4b0a65-0e60-4453-dc61-bcc8347fd0b9"
      },
      "outputs": [
        {
          "name": "stderr",
          "output_type": "stream",
          "text": [
            "[nltk_data] Downloading package punkt to /root/nltk_data...\n",
            "[nltk_data]   Unzipping tokenizers/punkt.zip.\n"
          ]
        }
      ],
      "source": [
        "import string\n",
        "from nltk.tokenize import word_tokenize\n",
        "nltk.download(\"punkt\")\n",
        "\n",
        "def clean_text(text:str)->list:\n",
        "    data = word_tokenize(text)\n",
        "    data = [word.lower() for word in data]\n",
        "    data = [d.translate(str.maketrans('', '', string.punctuation)) for d in data]\n",
        "    data = [d for d in data if d.isalpha()]\n",
        "    return data\n",
        "\n",
        "\n",
        "def clean_text_char_level(data:str)->list:\n",
        "    #data = word_tokenize(text)\n",
        "    data = data.lower()\n",
        "    data = data.translate(str.maketrans('', '', string.punctuation))\n",
        "    return data"
      ]
    },
    {
      "cell_type": "code",
      "execution_count": null,
      "metadata": {
        "colab": {
          "base_uri": "https://localhost:8080/"
        },
        "id": "WlYkNEHbWSFy",
        "outputId": "b8cf1609-de1d-42b8-a611-d0b8ed50fb0c"
      },
      "outputs": [
        {
          "name": "stderr",
          "output_type": "stream",
          "text": [
            "[nltk_data] Downloading package brown to /root/nltk_data...\n",
            "[nltk_data]   Unzipping corpora/brown.zip.\n"
          ]
        }
      ],
      "source": [
        "from nltk.corpus import brown\n",
        "import nltk\n",
        "\n",
        "nltk.download('brown')\n",
        "\n",
        "data=brown.sents(categories=['news','reviews'])\n",
        "data = \" \".join(sum(data,[]))\n",
        "data = clean_text_char_level(data)"
      ]
    },
    {
      "cell_type": "code",
      "execution_count": null,
      "metadata": {
        "colab": {
          "base_uri": "https://localhost:8080/"
        },
        "id": "mNiLVUbZPWEF",
        "outputId": "4e392143-4219-4c26-cb1d-12cef7406076"
      },
      "outputs": [
        {
          "name": "stdout",
          "output_type": "stream",
          "text": [
            "37\n"
          ]
        }
      ],
      "source": [
        "vocab = set(data)\n",
        "print(len(vocab))"
      ]
    },
    {
      "cell_type": "code",
      "execution_count": null,
      "metadata": {
        "colab": {
          "base_uri": "https://localhost:8080/",
          "height": 53
        },
        "id": "PXkdCjsVPcfE",
        "outputId": "8c70ad57-7e28-4f39-cebc-65af7d24b4bd"
      },
      "outputs": [
        {
          "data": {
            "application/vnd.google.colaboratory.intrinsic+json": {
              "type": "string"
            },
            "text/plain": [
              "'from collections import Counter\\nvocab_count = dict(Counter(data))\\nlow_freq_words = [k for k,v in vocab_count.items() if v<2]\\nprint(\"words with one accourance in data: \", len(low_freq_words))'"
            ]
          },
          "execution_count": 5,
          "metadata": {},
          "output_type": "execute_result"
        }
      ],
      "source": [
        "\"\"\"from collections import Counter\n",
        "vocab_count = dict(Counter(data))\n",
        "low_freq_words = [k for k,v in vocab_count.items() if v<2]\n",
        "print(\"words with one accourance in data: \", len(low_freq_words))\"\"\""
      ]
    },
    {
      "cell_type": "code",
      "execution_count": null,
      "metadata": {
        "colab": {
          "base_uri": "https://localhost:8080/",
          "height": 35
        },
        "id": "e0xFmwW0Qcyi",
        "outputId": "f939a426-e49c-4b6e-d851-06dc260ab497"
      },
      "outputs": [
        {
          "data": {
            "application/vnd.google.colaboratory.intrinsic+json": {
              "type": "string"
            },
            "text/plain": [
              "'from nltk.corpus import words\\nnltk.download(\"words\")\\n\\nvalid_low_freq_words = list(filter(lambda x: x in words.words(), low_freq_words))'"
            ]
          },
          "execution_count": 6,
          "metadata": {},
          "output_type": "execute_result"
        }
      ],
      "source": [
        "\"\"\"from nltk.corpus import words\n",
        "nltk.download(\"words\")\n",
        "\n",
        "valid_low_freq_words = list(filter(lambda x: x in words.words(), low_freq_words))\"\"\""
      ]
    },
    {
      "cell_type": "code",
      "execution_count": null,
      "metadata": {
        "colab": {
          "base_uri": "https://localhost:8080/",
          "height": 35
        },
        "id": "0EIAnHvsYJQm",
        "outputId": "1962d443-1c11-4e35-9651-5132106b30e3"
      },
      "outputs": [
        {
          "data": {
            "application/vnd.google.colaboratory.intrinsic+json": {
              "type": "string"
            },
            "text/plain": [
              "'len(valid_low_freq_words )'"
            ]
          },
          "execution_count": 7,
          "metadata": {},
          "output_type": "execute_result"
        }
      ],
      "source": [
        "\"\"\"len(valid_low_freq_words )\"\"\""
      ]
    },
    {
      "cell_type": "code",
      "execution_count": null,
      "metadata": {
        "colab": {
          "base_uri": "https://localhost:8080/",
          "height": 35
        },
        "id": "zLjUYf83X8IG",
        "outputId": "d8de4d78-35a6-42b6-a6eb-6706790045cd"
      },
      "outputs": [
        {
          "data": {
            "application/vnd.google.colaboratory.intrinsic+json": {
              "type": "string"
            },
            "text/plain": [
              "'vocab=[k for k,v in vocab_count.items() if v>=3]\\nvocab.append(\"unk\")\\nvocab=set(vocab)\\n#vocab.extend(valid_low_freq_words)\\nlen(vocab)'"
            ]
          },
          "execution_count": 8,
          "metadata": {},
          "output_type": "execute_result"
        }
      ],
      "source": [
        "\"\"\"vocab=[k for k,v in vocab_count.items() if v>=3]\n",
        "vocab.append(\"unk\")\n",
        "vocab=set(vocab)\n",
        "#vocab.extend(valid_low_freq_words)\n",
        "len(vocab)\"\"\""
      ]
    },
    {
      "cell_type": "code",
      "execution_count": null,
      "metadata": {
        "id": "Pi76xjDuYXr2"
      },
      "outputs": [],
      "source": [
        "\"\"\"tokenizer = Tokenizer()\n",
        "tokenizer.fit_on_texts(set(vocab))\n",
        "sequences = tokenizer.texts_to_sequences(data)\"\"\"\n",
        "word_to_id = {k:v for v,k in enumerate(vocab)}"
      ]
    },
    {
      "cell_type": "code",
      "execution_count": null,
      "metadata": {
        "colab": {
          "base_uri": "https://localhost:8080/"
        },
        "id": "3zAwjE3Ja2SZ",
        "outputId": "7dbdb0ba-02e6-4e0a-9172-f2b2c6ea9a83"
      },
      "outputs": [
        {
          "name": "stdout",
          "output_type": "stream",
          "text": [
            "Total Patterns:  736304\n"
          ]
        }
      ],
      "source": [
        "# prepare the dataset of input to output pairs encoded as integers\n",
        "seq_length = 70\n",
        "dataX = []\n",
        "dataY = []\n",
        "for i in range(0, len(data) - seq_length, 1):\n",
        "\tseq_in = data[i:i + seq_length]\n",
        "\tseq_out = data[i + seq_length]\n",
        "\tdataX.append([word_to_id[s] for s in seq_in])\n",
        "\tdataY.append(word_to_id[seq_out])\n",
        "n_patterns = len(dataX)\n",
        "print(\"Total Patterns: \", n_patterns)"
      ]
    },
    {
      "cell_type": "code",
      "execution_count": null,
      "metadata": {
        "colab": {
          "base_uri": "https://localhost:8080/"
        },
        "id": "rbS0OuY0JW4r",
        "outputId": "ab0d4693-76a5-4c22-b4cd-3b10788dfefd"
      },
      "outputs": [
        {
          "name": "stdout",
          "output_type": "stream",
          "text": [
            "[29, 2, 7, 1, 23, 13, 9, 29, 35, 19, 22, 23, 33, 29, 6, 1, 19, 9, 29, 28, 22, 5, 33, 29, 4, 19, 5, 33, 22, 9, 29, 22, 23, 29, 5, 23, 27, 21, 28, 13, 5, 35, 22, 13, 5, 7, 23, 29, 7, 4, 29, 22, 13, 15, 22, 23, 13, 22, 28, 29, 19, 21, 2, 21, 23, 13, 29, 0, 19, 5]\n",
            "3\n"
          ]
        }
      ],
      "source": [
        "print(dataX[10])\n",
        "print(dataY[10])"
      ]
    },
    {
      "cell_type": "code",
      "execution_count": null,
      "metadata": {
        "colab": {
          "base_uri": "https://localhost:8080/"
        },
        "id": "pcAA-_g8ifj5",
        "outputId": "3f73184b-47a4-45bb-c945-6945a4a7ddb0"
      },
      "outputs": [
        {
          "name": "stdout",
          "output_type": "stream",
          "text": [
            "37\n"
          ]
        }
      ],
      "source": [
        "\"\"\"vocab_size = len(tokenizer.word_index) + 1\"\"\"\n",
        "vocab_size = len(vocab)\n",
        "print(vocab_size)"
      ]
    },
    {
      "cell_type": "code",
      "execution_count": null,
      "metadata": {
        "colab": {
          "base_uri": "https://localhost:8080/"
        },
        "id": "BwBYOfQCJvND",
        "outputId": "d2b32c53-5801-424f-da83-f977ee79f575"
      },
      "outputs": [
        {
          "name": "stdout",
          "output_type": "stream",
          "text": [
            "(736304, 70, 1) (736304, 37)\n"
          ]
        }
      ],
      "source": [
        "dataX=np.array(dataX)/float(len(vocab))\n",
        "dataY=np.array(dataY)\n",
        "dataX=np.reshape(dataX, (dataX.shape[0], seq_length, 1))\n",
        "dataY = to_categorical(dataY, num_classes=vocab_size)\n",
        "\n",
        "print(dataX.shape, dataY.shape)"
      ]
    },
    {
      "cell_type": "code",
      "execution_count": null,
      "metadata": {
        "id": "25tCnlDVdLju"
      },
      "outputs": [],
      "source": [
        "from tensorflow.keras.layers import Flatten\n",
        "import tensorflow as tf\n",
        "\n",
        "model = Sequential()\n",
        "model.add(LSTM(seq_length,return_sequences=True,input_shape=(dataX.shape[1],1)))\n",
        "#model.add(Dropout(0.1))\n",
        "model.add(LSTM(seq_length,return_sequences=True))\n",
        "#model.add(Dropout(0.1))\n",
        "model.add(LSTM(seq_length))\n",
        "model.add(Dense(dataY.shape[1], activation='softmax'))\n",
        "optimizer = tf.optimizers.Adam(learning_rate=0.001)\n",
        "model.compile(loss='categorical_crossentropy', optimizer=optimizer, metrics=['accuracy'])"
      ]
    },
    {
      "cell_type": "code",
      "execution_count": null,
      "metadata": {
        "colab": {
          "base_uri": "https://localhost:8080/"
        },
        "id": "GiI3mwZlk-mu",
        "outputId": "6823bba1-6a1a-4f47-e476-c3f7cc1d0444"
      },
      "outputs": [
        {
          "name": "stdout",
          "output_type": "stream",
          "text": [
            "Model: \"sequential_2\"\n",
            "_________________________________________________________________\n",
            " Layer (type)                Output Shape              Param #   \n",
            "=================================================================\n",
            " lstm_6 (LSTM)               (None, 70, 70)            20160     \n",
            "                                                                 \n",
            " lstm_7 (LSTM)               (None, 70, 70)            39480     \n",
            "                                                                 \n",
            " lstm_8 (LSTM)               (None, 70)                39480     \n",
            "                                                                 \n",
            " dense_2 (Dense)             (None, 37)                2627      \n",
            "                                                                 \n",
            "=================================================================\n",
            "Total params: 101,747\n",
            "Trainable params: 101,747\n",
            "Non-trainable params: 0\n",
            "_________________________________________________________________\n"
          ]
        }
      ],
      "source": [
        "model.summary()"
      ]
    },
    {
      "cell_type": "markdown",
      "metadata": {
        "id": "kgBMHd7ggqdN"
      },
      "source": []
    },
    {
      "cell_type": "code",
      "execution_count": null,
      "metadata": {
        "colab": {
          "background_save": true,
          "base_uri": "https://localhost:8080/"
        },
        "id": "U2EfO8XtKJ7v",
        "outputId": "7c20f53b-3e50-40fd-9df8-12b6ef9f4157"
      },
      "outputs": [
        {
          "name": "stdout",
          "output_type": "stream",
          "text": [
            "Epoch 1/30\n",
            "5753/5753 [==============================] - 2171s 376ms/step - loss: 2.6456 - accuracy: 0.2422\n",
            "Epoch 2/30\n",
            "5753/5753 [==============================] - 2200s 382ms/step - loss: 2.3106 - accuracy: 0.3248\n",
            "Epoch 3/30\n",
            "5753/5753 [==============================] - 2150s 374ms/step - loss: 2.1861 - accuracy: 0.3588\n",
            "Epoch 4/30\n",
            "5753/5753 [==============================] - 2044s 355ms/step - loss: 2.1102 - accuracy: 0.3797\n",
            "Epoch 5/30\n",
            "1233/5753 [=====>........................] - ETA: 26:33 - loss: 2.0739 - accuracy: 0.3906"
          ]
        }
      ],
      "source": [
        "model.fit(dataX, dataY, epochs=30, batch_size=128)"
      ]
    },
    {
      "cell_type": "code",
      "execution_count": null,
      "metadata": {
        "id": "RAhePETZvJZC"
      },
      "outputs": [],
      "source": [
        "text= \"The 17th-century British empiricist John Locke held that linguistic meaning is mental: words are used to encode and convey thoughts, or ideas. Successful communication requires that the hearer correctly decode the speaker’s words into their associated ideas. So construed, the meaning of an expression, according to Locke, is the idea associated with it in the mind of anyone who knows and understands that expression.\"\n",
        "text = clean_text_char_level(data)\n",
        "\n",
        "model_input = [word_to_id[char] for char in text]\n",
        "\n",
        "output_vector = [model.predict(model_input[i:i+10]) for i in range(len(text)-seq_length)]\n",
        "idx = [np.argmax(v) for v in output_vector]"
      ]
    }
  ],
  "metadata": {
    "accelerator": "GPU",
    "colab": {
      "provenance": [],
      "authorship_tag": "ABX9TyPTv+bWvOoMKlGtGjyEVfiI",
      "include_colab_link": true
    },
    "gpuClass": "standard",
    "kernelspec": {
      "display_name": "Python 3",
      "name": "python3"
    },
    "language_info": {
      "name": "python"
    }
  },
  "nbformat": 4,
  "nbformat_minor": 0
}