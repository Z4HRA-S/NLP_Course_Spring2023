{
  "cells": [
    {
      "cell_type": "markdown",
      "metadata": {
        "id": "view-in-github",
        "colab_type": "text"
      },
      "source": [
        "<a href=\"https://colab.research.google.com/github/Z4HRA-S/NLP_Course_Spring2023/blob/main/Next_word_prediction_using_LSTM.ipynb\" target=\"_parent\"><img src=\"https://colab.research.google.com/assets/colab-badge.svg\" alt=\"Open In Colab\"/></a>"
      ]
    },
    {
      "cell_type": "markdown",
      "metadata": {
        "id": "O6-NPLt4etsb"
      },
      "source": [
        "#Next Word Prediction Using LSTM\n",
        "In this session, we want to predict the next token based on a sequence. For more detail, see this [link](https://machinelearningmastery.com/text-generation-lstm-recurrent-neural-networks-python-keras/).\n",
        " This task is charachter-level. It means our model will predict the next character :)\n",
        "bold text"
      ]
    },
    {
      "cell_type": "code",
      "execution_count": 1,
      "metadata": {
        "id": "3LTDH3MMWEs_"
      },
      "outputs": [],
      "source": [
        "# Small LSTM Network to Generate Text for Alice in Wonderland\n",
        "import numpy as np\n",
        "import nltk\n",
        "from tensorflow.keras.models import Sequential\n",
        "from tensorflow.keras.layers import Dense\n",
        "from tensorflow.keras.layers import Dropout\n",
        "from tensorflow.keras.layers import LSTM\n",
        "from tensorflow.keras.callbacks import ModelCheckpoint\n",
        "from tensorflow.keras.utils import to_categorical\n",
        "from keras.layers import Embedding\n",
        "from keras.preprocessing.text import Tokenizer"
      ]
    },
    {
      "cell_type": "markdown",
      "source": [
        "Here we define a function for cleaning our text."
      ],
      "metadata": {
        "id": "XeB64B0k2Geo"
      }
    },
    {
      "cell_type": "code",
      "execution_count": 2,
      "metadata": {
        "colab": {
          "base_uri": "https://localhost:8080/"
        },
        "id": "vz0mgk5O9VwC",
        "outputId": "8aababbb-0e0c-4715-95e3-eaa6e263ff67"
      },
      "outputs": [
        {
          "output_type": "stream",
          "name": "stderr",
          "text": [
            "[nltk_data] Downloading package punkt to /root/nltk_data...\n",
            "[nltk_data]   Unzipping tokenizers/punkt.zip.\n"
          ]
        }
      ],
      "source": [
        "import string\n",
        "from nltk.tokenize import word_tokenize\n",
        "nltk.download(\"punkt\")\n",
        "\n",
        "\"\"\"def clean_text(text:str)->list:\n",
        "    data = word_tokenize(text)\n",
        "    data = [word.lower() for word in data]\n",
        "    data = [d.translate(str.maketrans('', '', string.punctuation)) for d in data]\n",
        "    data = [d for d in data if d.isalpha()]\n",
        "    return data\"\"\"\n",
        "\n",
        "\n",
        "def clean_text_char_level(data:str)->list:\n",
        "    data = data.lower()\n",
        "    data = data.translate(str.maketrans('', '', string.punctuation))\n",
        "    return data"
      ]
    },
    {
      "cell_type": "markdown",
      "source": [
        "We download the brown corpus from nltk. "
      ],
      "metadata": {
        "id": "vbI_kOsV2MDH"
      }
    },
    {
      "cell_type": "code",
      "execution_count": 3,
      "metadata": {
        "colab": {
          "base_uri": "https://localhost:8080/"
        },
        "id": "WlYkNEHbWSFy",
        "outputId": "59075848-3bf5-4f00-b2ef-3e456a3043cf"
      },
      "outputs": [
        {
          "output_type": "stream",
          "name": "stderr",
          "text": [
            "[nltk_data] Downloading package brown to /root/nltk_data...\n",
            "[nltk_data]   Unzipping corpora/brown.zip.\n"
          ]
        }
      ],
      "source": [
        "from nltk.corpus import brown\n",
        "import nltk\n",
        "\n",
        "nltk.download('brown')\n",
        "\n",
        "data=brown.sents(categories=['news','reviews'])\n",
        "data = \" \".join(sum(data,[]))\n",
        "data = clean_text_char_level(data)"
      ]
    },
    {
      "cell_type": "markdown",
      "source": [
        "Our vocab includes english chars."
      ],
      "metadata": {
        "id": "Zc2zWl4Y2YCn"
      }
    },
    {
      "cell_type": "code",
      "execution_count": 4,
      "metadata": {
        "colab": {
          "base_uri": "https://localhost:8080/"
        },
        "id": "mNiLVUbZPWEF",
        "outputId": "79da9898-9141-4b89-d9aa-accb11cc4614"
      },
      "outputs": [
        {
          "output_type": "stream",
          "name": "stdout",
          "text": [
            "37\n"
          ]
        }
      ],
      "source": [
        "vocab = set(data)\n",
        "print(len(vocab))"
      ]
    },
    {
      "cell_type": "code",
      "execution_count": null,
      "metadata": {
        "colab": {
          "base_uri": "https://localhost:8080/"
        },
        "id": "PXkdCjsVPcfE",
        "outputId": "9aa43297-5f58-472d-bb41-e2bfc7494143"
      },
      "outputs": [
        {
          "output_type": "execute_result",
          "data": {
            "text/plain": [
              "'from collections import Counter\\nvocab_count = dict(Counter(data))\\nlow_freq_words = [k for k,v in vocab_count.items() if v<2]\\nprint(\"words with one accourance in data: \", len(low_freq_words))'"
            ],
            "application/vnd.google.colaboratory.intrinsic+json": {
              "type": "string"
            }
          },
          "metadata": {},
          "execution_count": 5
        }
      ],
      "source": [
        "\"\"\"from collections import Counter\n",
        "vocab_count = dict(Counter(data))\n",
        "low_freq_words = [k for k,v in vocab_count.items() if v<2]\n",
        "print(\"words with one accourance in data: \", len(low_freq_words))\"\"\""
      ]
    },
    {
      "cell_type": "code",
      "execution_count": null,
      "metadata": {
        "colab": {
          "base_uri": "https://localhost:8080/"
        },
        "id": "e0xFmwW0Qcyi",
        "outputId": "7e45fcbf-dccc-4972-adb9-dcfd888ec04a"
      },
      "outputs": [
        {
          "output_type": "execute_result",
          "data": {
            "text/plain": [
              "'from nltk.corpus import words\\nnltk.download(\"words\")\\n\\nvalid_low_freq_words = list(filter(lambda x: x in words.words(), low_freq_words))'"
            ],
            "application/vnd.google.colaboratory.intrinsic+json": {
              "type": "string"
            }
          },
          "metadata": {},
          "execution_count": 6
        }
      ],
      "source": [
        "\"\"\"from nltk.corpus import words\n",
        "nltk.download(\"words\")\n",
        "\n",
        "valid_low_freq_words = list(filter(lambda x: x in words.words(), low_freq_words))\"\"\""
      ]
    },
    {
      "cell_type": "code",
      "execution_count": null,
      "metadata": {
        "colab": {
          "base_uri": "https://localhost:8080/"
        },
        "id": "0EIAnHvsYJQm",
        "outputId": "aca4d8e8-0518-4ae7-ac91-08ad86ab725e"
      },
      "outputs": [
        {
          "output_type": "execute_result",
          "data": {
            "text/plain": [
              "'len(valid_low_freq_words )'"
            ],
            "application/vnd.google.colaboratory.intrinsic+json": {
              "type": "string"
            }
          },
          "metadata": {},
          "execution_count": 7
        }
      ],
      "source": [
        "\"\"\"len(valid_low_freq_words )\"\"\""
      ]
    },
    {
      "cell_type": "code",
      "execution_count": null,
      "metadata": {
        "colab": {
          "base_uri": "https://localhost:8080/"
        },
        "id": "zLjUYf83X8IG",
        "outputId": "a850ab54-af0e-434d-dd90-6b57bc50b97a"
      },
      "outputs": [
        {
          "output_type": "execute_result",
          "data": {
            "text/plain": [
              "'vocab=[k for k,v in vocab_count.items() if v>=3]\\nvocab.append(\"unk\")\\nvocab=set(vocab)\\n#vocab.extend(valid_low_freq_words)\\nlen(vocab)'"
            ],
            "application/vnd.google.colaboratory.intrinsic+json": {
              "type": "string"
            }
          },
          "metadata": {},
          "execution_count": 8
        }
      ],
      "source": [
        "\"\"\"vocab=[k for k,v in vocab_count.items() if v>=3]\n",
        "vocab.append(\"unk\")\n",
        "vocab=set(vocab)\n",
        "#vocab.extend(valid_low_freq_words)\n",
        "len(vocab)\"\"\""
      ]
    },
    {
      "cell_type": "markdown",
      "source": [
        "We define word_to_id as a mapping between chars and numbers."
      ],
      "metadata": {
        "id": "Pvz7q41K2d5-"
      }
    },
    {
      "cell_type": "code",
      "execution_count": 5,
      "metadata": {
        "id": "Pi76xjDuYXr2"
      },
      "outputs": [],
      "source": [
        "\"\"\"tokenizer = Tokenizer()\n",
        "tokenizer.fit_on_texts(set(vocab))\n",
        "sequences = tokenizer.texts_to_sequences(data)\"\"\"\n",
        "word_to_id = {k:v for v,k in enumerate(vocab)}"
      ]
    },
    {
      "cell_type": "markdown",
      "source": [
        "In the next cell, we take 70-length sequence of chars of our corpus, and we take the 71th char as the sequence's label."
      ],
      "metadata": {
        "id": "vTqNCWR62lMl"
      }
    },
    {
      "cell_type": "code",
      "execution_count": 13,
      "metadata": {
        "colab": {
          "base_uri": "https://localhost:8080/"
        },
        "id": "3zAwjE3Ja2SZ",
        "outputId": "71096d34-53f4-49eb-9fef-b97e59858f2c"
      },
      "outputs": [
        {
          "output_type": "stream",
          "name": "stdout",
          "text": [
            "Total Patterns:  736254\n"
          ]
        }
      ],
      "source": [
        "# prepare the dataset of input to output pairs encoded as integers\n",
        "seq_length = 120\n",
        "dataX = []\n",
        "dataY = []\n",
        "for i in range(0, len(data) - seq_length, 1):\n",
        "\tseq_in = data[i:i + seq_length]\n",
        "\tseq_out = data[i + seq_length]\n",
        "\tdataX.append([word_to_id[s] for s in seq_in])\n",
        "\tdataY.append(word_to_id[seq_out])\n",
        "n_patterns = len(dataX)\n",
        "print(\"Total Patterns: \", n_patterns)"
      ]
    },
    {
      "cell_type": "code",
      "execution_count": 14,
      "metadata": {
        "colab": {
          "base_uri": "https://localhost:8080/"
        },
        "id": "rbS0OuY0JW4r",
        "outputId": "099f638d-d4e2-4ccc-bece-2f6e7ce870d3"
      },
      "outputs": [
        {
          "output_type": "stream",
          "name": "stdout",
          "text": [
            "[17, 21, 22, 4, 34, 31, 20, 17, 8, 26, 14, 34, 33, 17, 23, 4, 26, 20, 17, 3, 14, 18, 33, 17, 5, 26, 18, 33, 14, 20, 17, 14, 34, 17, 18, 34, 19, 13, 3, 31, 18, 8, 14, 31, 18, 22, 34, 17, 22, 5, 17, 14, 31, 29, 14, 34, 31, 14, 3, 17, 26, 13, 21, 13, 34, 31, 17, 28, 26, 18, 35, 14, 26, 20, 17, 13, 29, 13, 21, 31, 18, 22, 34, 17, 28, 26, 22, 33, 4, 21, 13, 33, 17, 17, 34, 22, 17, 13, 19, 18, 33, 13, 34, 21, 13, 17, 17, 31, 11, 14, 31, 17, 14, 34, 20, 17, 18, 26, 26, 13]\n",
            "8\n"
          ]
        }
      ],
      "source": [
        "print(dataX[10])\n",
        "print(dataY[10])"
      ]
    },
    {
      "cell_type": "code",
      "execution_count": 15,
      "metadata": {
        "colab": {
          "base_uri": "https://localhost:8080/"
        },
        "id": "pcAA-_g8ifj5",
        "outputId": "cd811df3-ab7d-43ca-cd1d-c14015f88b47"
      },
      "outputs": [
        {
          "output_type": "stream",
          "name": "stdout",
          "text": [
            "37\n"
          ]
        }
      ],
      "source": [
        "\"\"\"vocab_size = len(tokenizer.word_index) + 1\"\"\"\n",
        "vocab_size = len(vocab)\n",
        "print(vocab_size)"
      ]
    },
    {
      "cell_type": "markdown",
      "source": [
        "In the next cell, we normalize the input to the model to be in the range of (0,1) and turn the label into one-hot vectors."
      ],
      "metadata": {
        "id": "I2WJERYN27OV"
      }
    },
    {
      "cell_type": "code",
      "execution_count": 16,
      "metadata": {
        "colab": {
          "base_uri": "https://localhost:8080/"
        },
        "id": "BwBYOfQCJvND",
        "outputId": "c54baa26-64aa-4d87-d582-b9f0f402be1e"
      },
      "outputs": [
        {
          "output_type": "stream",
          "name": "stdout",
          "text": [
            "(736254, 120, 1) (736254, 37)\n"
          ]
        }
      ],
      "source": [
        "dataX=np.array(dataX)/float(len(vocab))\n",
        "dataY=np.array(dataY)\n",
        "dataX=np.reshape(dataX, (dataX.shape[0], seq_length, 1))\n",
        "dataY = to_categorical(dataY, num_classes=vocab_size)\n",
        "\n",
        "print(dataX.shape, dataY.shape)"
      ]
    },
    {
      "cell_type": "markdown",
      "source": [
        "In the next cell, we define a deep neural network model. Don't worry if you did not take the deep learning course, just run the cell. "
      ],
      "metadata": {
        "id": "xaGrvINV3YS_"
      }
    },
    {
      "cell_type": "code",
      "execution_count": 17,
      "metadata": {
        "id": "25tCnlDVdLju"
      },
      "outputs": [],
      "source": [
        "from tensorflow.keras.layers import Flatten\n",
        "import tensorflow as tf\n",
        "\n",
        "model = Sequential()\n",
        "model.add(LSTM(seq_length,return_sequences=True,input_shape=(dataX.shape[1],1)))\n",
        "#model.add(Dropout(0.1))\n",
        "model.add(LSTM(seq_length,return_sequences=True))\n",
        "#model.add(Dropout(0.1))\n",
        "model.add(LSTM(seq_length))\n",
        "model.add(Dense(dataY.shape[1], activation='softmax'))\n",
        "optimizer = tf.optimizers.Adam(learning_rate=0.001)\n",
        "model.compile(loss='categorical_crossentropy', optimizer=optimizer, metrics=['accuracy'])"
      ]
    },
    {
      "cell_type": "code",
      "execution_count": 18,
      "metadata": {
        "colab": {
          "base_uri": "https://localhost:8080/"
        },
        "id": "GiI3mwZlk-mu",
        "outputId": "23740e45-c9f3-4ff8-96fa-d37b768c0ffd"
      },
      "outputs": [
        {
          "output_type": "stream",
          "name": "stdout",
          "text": [
            "Model: \"sequential_1\"\n",
            "_________________________________________________________________\n",
            " Layer (type)                Output Shape              Param #   \n",
            "=================================================================\n",
            " lstm_3 (LSTM)               (None, 120, 120)          58560     \n",
            "                                                                 \n",
            " lstm_4 (LSTM)               (None, 120, 120)          115680    \n",
            "                                                                 \n",
            " lstm_5 (LSTM)               (None, 120)               115680    \n",
            "                                                                 \n",
            " dense_1 (Dense)             (None, 37)                4477      \n",
            "                                                                 \n",
            "=================================================================\n",
            "Total params: 294,397\n",
            "Trainable params: 294,397\n",
            "Non-trainable params: 0\n",
            "_________________________________________________________________\n"
          ]
        }
      ],
      "source": [
        "model.summary()"
      ]
    },
    {
      "cell_type": "markdown",
      "source": [
        "The training will occur in the next cell, it may take a while. Go make a cup of tea for yourself 🫖 🍵"
      ],
      "metadata": {
        "id": "q7CRJ8ii3syH"
      }
    },
    {
      "cell_type": "code",
      "execution_count": null,
      "metadata": {
        "id": "U2EfO8XtKJ7v"
      },
      "outputs": [],
      "source": [
        "model.fit(dataX, dataY, epochs=100, batch_size=80)"
      ]
    },
    {
      "cell_type": "markdown",
      "source": [
        "After training the model, we will evaluate our model. If you want to test it, define your desired text."
      ],
      "metadata": {
        "id": "QgMRcyCA4KnB"
      }
    },
    {
      "cell_type": "code",
      "execution_count": 31,
      "metadata": {
        "id": "RAhePETZvJZC",
        "outputId": "c236e733-0be9-498b-e0ef-c18135bf670a",
        "colab": {
          "base_uri": "https://localhost:8080/"
        }
      },
      "outputs": [
        {
          "output_type": "stream",
          "name": "stdout",
          "text": [
            "1/1 [==============================] - 0s 25ms/step\n",
            "1/1 [==============================] - 0s 23ms/step\n",
            "1/1 [==============================] - 0s 25ms/step\n",
            "1/1 [==============================] - 0s 24ms/step\n",
            "1/1 [==============================] - 0s 23ms/step\n",
            "1/1 [==============================] - 0s 24ms/step\n",
            "1/1 [==============================] - 0s 23ms/step\n",
            "1/1 [==============================] - 0s 24ms/step\n",
            "1/1 [==============================] - 0s 24ms/step\n",
            "1/1 [==============================] - 0s 25ms/step\n",
            "['a', 'a', 'a', 'a', 'a', 'a', 'a', 'a', 'a', 'a']\n"
          ]
        }
      ],
      "source": [
        "id_to_char={v:k for k,v in word_to_id.items()}\n",
        "\n",
        "text= \"words are used to encode and convey\" # next word: thoughts\n",
        "text = clean_text_char_level(data)\n",
        "\n",
        "model_input = np.array([word_to_id[char] for char in text])\n",
        "\n",
        "#predict next 10 charachters.\n",
        "output=[]\n",
        "for i in range(10):\n",
        "    output_vector = model.predict(model_input[i:i+120].reshape(1,120,1))\n",
        "    idx = np.argmax(output_vector)\n",
        "    output.append(id_to_char[idx])\n",
        "\n",
        "    model_input = np.append(model_input,idx)\n",
        "\n",
        "print(output)"
      ]
    },
    {
      "cell_type": "markdown",
      "source": [
        "##Home Work\n",
        "These homework are subjective, and your way of thinking and researching is more important than your actual answers (but pay attention to your actual answers too :) ). Try to think about the problem, and if you discuss it with your friends, please include their names in your email.\n",
        "\n",
        "1. Run the notebook and ask any question, or discuss your ideas and thoughts. \n",
        "2. Test some other text with the trained model and see the answers. \n",
        "3. Think about the pre-processing and see if you can do it better. If you came up with any ideas, try it and submit it in  your email.\n",
        "4. Explore the data. Search and see if you can run the model with another dataset. compare your data set with the current dataset and include the result of the training, including accuracy and loss. \n"
      ],
      "metadata": {
        "id": "tkivhOMp5bhi"
      }
    }
  ],
  "metadata": {
    "accelerator": "GPU",
    "colab": {
      "provenance": [],
      "authorship_tag": "ABX9TyOjg9ii73c/oNV03XC2Sq4I",
      "include_colab_link": true
    },
    "gpuClass": "standard",
    "kernelspec": {
      "display_name": "Python 3",
      "name": "python3"
    },
    "language_info": {
      "name": "python"
    }
  },
  "nbformat": 4,
  "nbformat_minor": 0
}