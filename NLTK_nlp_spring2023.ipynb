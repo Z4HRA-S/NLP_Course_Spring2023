{
  "nbformat": 4,
  "nbformat_minor": 0,
  "metadata": {
    "colab": {
      "provenance": [],
      "authorship_tag": "ABX9TyNf19c0qT1UA4ubu/Xax61X",
      "include_colab_link": true
    },
    "kernelspec": {
      "name": "python3",
      "display_name": "Python 3"
    },
    "language_info": {
      "name": "python"
    }
  },
  "cells": [
    {
      "cell_type": "markdown",
      "metadata": {
        "id": "view-in-github",
        "colab_type": "text"
      },
      "source": [
        "<a href=\"https://colab.research.google.com/github/Z4HRA-S/NLP_Course_Spring2023/blob/main/NLTK_nlp_spring2023.ipynb\" target=\"_parent\"><img src=\"https://colab.research.google.com/assets/colab-badge.svg\" alt=\"Open In Colab\"/></a>"
      ]
    },
    {
      "cell_type": "markdown",
      "source": [
        "# Introduction to NLTK \n",
        "###Spring 2023 | Session 1 \n",
        "\n",
        "The goal of this session is to get familiar with the `NLTK` package and some of the text pre-processing steps. \n",
        "We will cover the following concepts: \n",
        "* Tokenization\n",
        "* Stemming\n",
        "* Lemmatizing\n",
        "* POS tagging"
      ],
      "metadata": {
        "id": "q6ZjYypbko3l"
      }
    },
    {
      "cell_type": "code",
      "source": [
        "\n",
        "my_string = \"\"\"Tolkien's fantasy books on Middle-earth, especially The Lord of the Rings and The Silmarillion,\n",
        " drew on a wide array of influences including his philological interest in language,\n",
        " Christianity, medievalism, mythology, archaeology, ancient and modern literature,\n",
        "  and personal experience. His philological work centred on the study of Old English\n",
        "   literature, especially Beowulf, and he acknowledged its importance to his writings.\n",
        "   He was a gifted linguist, influenced by Germanic, Celtic, Finnish, and Greek language and mythology. \"\"\""
      ],
      "metadata": {
        "id": "q1kMyMFKCyxo"
      },
      "execution_count": 16,
      "outputs": []
    },
    {
      "cell_type": "markdown",
      "source": [
        "We will try two of built-in python's function for strings."
      ],
      "metadata": {
        "id": "1uUsrEHgloHc"
      }
    },
    {
      "cell_type": "code",
      "source": [
        "my_string.split(\"\\n\")"
      ],
      "metadata": {
        "id": "fHEznsluC58u",
        "colab": {
          "base_uri": "https://localhost:8080/"
        },
        "outputId": "83e09e21-5dd9-4047-bcfa-211475f38243"
      },
      "execution_count": 17,
      "outputs": [
        {
          "output_type": "execute_result",
          "data": {
            "text/plain": [
              "[\"Tolkien's fantasy books on Middle-earth, especially The Lord of the Rings and The Silmarillion,\",\n",
              " ' drew on a wide array of influences including his philological interest in language,',\n",
              " ' Christianity, medievalism, mythology, archaeology, ancient and modern literature,',\n",
              " '  and personal experience. His philological work centred on the study of Old English',\n",
              " '   literature, especially Beowulf, and he acknowledged its importance to his writings.',\n",
              " '   He was a gifted linguist, influenced by Germanic, Celtic, Finnish, and Greek language and mythology. ']"
            ]
          },
          "metadata": {},
          "execution_count": 17
        }
      ]
    },
    {
      "cell_type": "code",
      "source": [
        "my_string.split(\" \")"
      ],
      "metadata": {
        "id": "pMjueEkdC89J"
      },
      "execution_count": null,
      "outputs": []
    },
    {
      "cell_type": "code",
      "source": [
        "print(my_string.replace(\"he\",\"***Tolkien***\"))"
      ],
      "metadata": {
        "id": "HP6_8g9FDAPu",
        "colab": {
          "base_uri": "https://localhost:8080/"
        },
        "outputId": "9e0a714f-724e-4d41-8cc5-22654296c413"
      },
      "execution_count": 19,
      "outputs": [
        {
          "output_type": "stream",
          "name": "stdout",
          "text": [
            "Tolkien's fantasy books on Middle-earth, especially T***Tolkien*** Lord of t***Tolkien*** Rings and T***Tolkien*** Silmarillion,\n",
            " drew on a wide array of influences including his philological interest in language,\n",
            " Christianity, medievalism, mythology, archaeology, ancient and modern literature,\n",
            "  and personal experience. His philological work centred on t***Tolkien*** study of Old English\n",
            "   literature, especially Beowulf, and ***Tolkien*** acknowledged its importance to his writings.\n",
            "   He was a gifted linguist, influenced by Germanic, Celtic, Finnish, and Greek language and mythology. \n"
          ]
        }
      ]
    },
    {
      "cell_type": "markdown",
      "source": [
        "###NLTK"
      ],
      "metadata": {
        "id": "HCKiV86KlxFY"
      }
    },
    {
      "cell_type": "code",
      "execution_count": 8,
      "metadata": {
        "colab": {
          "base_uri": "https://localhost:8080/"
        },
        "id": "lq0s8-Km_sZO",
        "outputId": "aab3a4d7-49ad-43bb-dff4-0fadbea53c3e"
      },
      "outputs": [
        {
          "output_type": "stream",
          "name": "stderr",
          "text": [
            "[nltk_data] Downloading package punkt to /root/nltk_data...\n",
            "[nltk_data]   Package punkt is already up-to-date!\n"
          ]
        },
        {
          "output_type": "execute_result",
          "data": {
            "text/plain": [
              "True"
            ]
          },
          "metadata": {},
          "execution_count": 8
        }
      ],
      "source": [
        "import nltk\n",
        "nltk.download(\"punkt\")"
      ]
    },
    {
      "cell_type": "markdown",
      "source": [
        "##Tokenization\n",
        "\n",
        "Token's definition by [Stanford NLP course](https://nlp.stanford.edu/IR-book/html/htmledition/tokenization-1.html): \"Tokens are often loosely referred to as terms or words, but it is sometimes important to make a type/token distinction. A token is an instance of a sequence of characters in some particular document that are grouped together as a useful semantic unit for processing.\"\n",
        "\n",
        "What is Tokenization? An answer by [Anni Burchfiel](https://www.tokenex.com/blog/ab-what-is-nlp-natural-language-processing-tokenization/): \"Tokenization is used in natural language processing to split paragraphs and sentences into smaller units that can be more easily assigned meaning. The first step of the NLP process is gathering the data (a sentence) and breaking it into understandable parts (words).\""
      ],
      "metadata": {
        "id": "Sz5qJ4c4CXFf"
      }
    },
    {
      "cell_type": "code",
      "source": [
        "from nltk.tokenize import word_tokenize\n",
        "\n",
        "tokens = word_tokenize(my_string)\n",
        "print(tokens)"
      ],
      "metadata": {
        "colab": {
          "base_uri": "https://localhost:8080/"
        },
        "id": "l5u-hmSw_2-m",
        "outputId": "7d021a5a-7025-4230-a3f0-74f8edb6c9a8"
      },
      "execution_count": 20,
      "outputs": [
        {
          "output_type": "stream",
          "name": "stdout",
          "text": [
            "['Tolkien', \"'s\", 'fantasy', 'books', 'on', 'Middle-earth', ',', 'especially', 'The', 'Lord', 'of', 'the', 'Rings', 'and', 'The', 'Silmarillion', ',', 'drew', 'on', 'a', 'wide', 'array', 'of', 'influences', 'including', 'his', 'philological', 'interest', 'in', 'language', ',', 'Christianity', ',', 'medievalism', ',', 'mythology', ',', 'archaeology', ',', 'ancient', 'and', 'modern', 'literature', ',', 'and', 'personal', 'experience', '.', 'His', 'philological', 'work', 'centred', 'on', 'the', 'study', 'of', 'Old', 'English', 'literature', ',', 'especially', 'Beowulf', ',', 'and', 'he', 'acknowledged', 'its', 'importance', 'to', 'his', 'writings', '.', 'He', 'was', 'a', 'gifted', 'linguist', ',', 'influenced', 'by', 'Germanic', ',', 'Celtic', ',', 'Finnish', ',', 'and', 'Greek', 'language', 'and', 'mythology', '.']\n"
          ]
        }
      ]
    },
    {
      "cell_type": "code",
      "source": [
        "tokens = [t.lower() for t in tokens]"
      ],
      "metadata": {
        "id": "4OuoLwbICVVx"
      },
      "execution_count": 21,
      "outputs": []
    },
    {
      "cell_type": "markdown",
      "source": [
        "###N_grams\n",
        "N-grams are a continuous slice of a textual sequence. The N refers to the slice size (N tokens, symbols, words, etc)."
      ],
      "metadata": {
        "id": "rj8Xcg3XDzK3"
      }
    },
    {
      "cell_type": "code",
      "source": [
        "from nltk.util import ngrams\n",
        "\n",
        "[a for a in ngrams(tokens, 4, pad_left=True, pad_right=True, left_pad_symbol='_', right_pad_symbol='_')]"
      ],
      "metadata": {
        "id": "Fzjj0Bj8Dwlb",
        "colab": {
          "base_uri": "https://localhost:8080/"
        },
        "outputId": "13051e5c-8db4-45f5-b497-79bfe2872a83"
      },
      "execution_count": 22,
      "outputs": [
        {
          "output_type": "execute_result",
          "data": {
            "text/plain": [
              "[('_', '_', '_', 'tolkien'),\n",
              " ('_', '_', 'tolkien', \"'s\"),\n",
              " ('_', 'tolkien', \"'s\", 'fantasy'),\n",
              " ('tolkien', \"'s\", 'fantasy', 'books'),\n",
              " (\"'s\", 'fantasy', 'books', 'on'),\n",
              " ('fantasy', 'books', 'on', 'middle-earth'),\n",
              " ('books', 'on', 'middle-earth', ','),\n",
              " ('on', 'middle-earth', ',', 'especially'),\n",
              " ('middle-earth', ',', 'especially', 'the'),\n",
              " (',', 'especially', 'the', 'lord'),\n",
              " ('especially', 'the', 'lord', 'of'),\n",
              " ('the', 'lord', 'of', 'the'),\n",
              " ('lord', 'of', 'the', 'rings'),\n",
              " ('of', 'the', 'rings', 'and'),\n",
              " ('the', 'rings', 'and', 'the'),\n",
              " ('rings', 'and', 'the', 'silmarillion'),\n",
              " ('and', 'the', 'silmarillion', ','),\n",
              " ('the', 'silmarillion', ',', 'drew'),\n",
              " ('silmarillion', ',', 'drew', 'on'),\n",
              " (',', 'drew', 'on', 'a'),\n",
              " ('drew', 'on', 'a', 'wide'),\n",
              " ('on', 'a', 'wide', 'array'),\n",
              " ('a', 'wide', 'array', 'of'),\n",
              " ('wide', 'array', 'of', 'influences'),\n",
              " ('array', 'of', 'influences', 'including'),\n",
              " ('of', 'influences', 'including', 'his'),\n",
              " ('influences', 'including', 'his', 'philological'),\n",
              " ('including', 'his', 'philological', 'interest'),\n",
              " ('his', 'philological', 'interest', 'in'),\n",
              " ('philological', 'interest', 'in', 'language'),\n",
              " ('interest', 'in', 'language', ','),\n",
              " ('in', 'language', ',', 'christianity'),\n",
              " ('language', ',', 'christianity', ','),\n",
              " (',', 'christianity', ',', 'medievalism'),\n",
              " ('christianity', ',', 'medievalism', ','),\n",
              " (',', 'medievalism', ',', 'mythology'),\n",
              " ('medievalism', ',', 'mythology', ','),\n",
              " (',', 'mythology', ',', 'archaeology'),\n",
              " ('mythology', ',', 'archaeology', ','),\n",
              " (',', 'archaeology', ',', 'ancient'),\n",
              " ('archaeology', ',', 'ancient', 'and'),\n",
              " (',', 'ancient', 'and', 'modern'),\n",
              " ('ancient', 'and', 'modern', 'literature'),\n",
              " ('and', 'modern', 'literature', ','),\n",
              " ('modern', 'literature', ',', 'and'),\n",
              " ('literature', ',', 'and', 'personal'),\n",
              " (',', 'and', 'personal', 'experience'),\n",
              " ('and', 'personal', 'experience', '.'),\n",
              " ('personal', 'experience', '.', 'his'),\n",
              " ('experience', '.', 'his', 'philological'),\n",
              " ('.', 'his', 'philological', 'work'),\n",
              " ('his', 'philological', 'work', 'centred'),\n",
              " ('philological', 'work', 'centred', 'on'),\n",
              " ('work', 'centred', 'on', 'the'),\n",
              " ('centred', 'on', 'the', 'study'),\n",
              " ('on', 'the', 'study', 'of'),\n",
              " ('the', 'study', 'of', 'old'),\n",
              " ('study', 'of', 'old', 'english'),\n",
              " ('of', 'old', 'english', 'literature'),\n",
              " ('old', 'english', 'literature', ','),\n",
              " ('english', 'literature', ',', 'especially'),\n",
              " ('literature', ',', 'especially', 'beowulf'),\n",
              " (',', 'especially', 'beowulf', ','),\n",
              " ('especially', 'beowulf', ',', 'and'),\n",
              " ('beowulf', ',', 'and', 'he'),\n",
              " (',', 'and', 'he', 'acknowledged'),\n",
              " ('and', 'he', 'acknowledged', 'its'),\n",
              " ('he', 'acknowledged', 'its', 'importance'),\n",
              " ('acknowledged', 'its', 'importance', 'to'),\n",
              " ('its', 'importance', 'to', 'his'),\n",
              " ('importance', 'to', 'his', 'writings'),\n",
              " ('to', 'his', 'writings', '.'),\n",
              " ('his', 'writings', '.', 'he'),\n",
              " ('writings', '.', 'he', 'was'),\n",
              " ('.', 'he', 'was', 'a'),\n",
              " ('he', 'was', 'a', 'gifted'),\n",
              " ('was', 'a', 'gifted', 'linguist'),\n",
              " ('a', 'gifted', 'linguist', ','),\n",
              " ('gifted', 'linguist', ',', 'influenced'),\n",
              " ('linguist', ',', 'influenced', 'by'),\n",
              " (',', 'influenced', 'by', 'germanic'),\n",
              " ('influenced', 'by', 'germanic', ','),\n",
              " ('by', 'germanic', ',', 'celtic'),\n",
              " ('germanic', ',', 'celtic', ','),\n",
              " (',', 'celtic', ',', 'finnish'),\n",
              " ('celtic', ',', 'finnish', ','),\n",
              " (',', 'finnish', ',', 'and'),\n",
              " ('finnish', ',', 'and', 'greek'),\n",
              " (',', 'and', 'greek', 'language'),\n",
              " ('and', 'greek', 'language', 'and'),\n",
              " ('greek', 'language', 'and', 'mythology'),\n",
              " ('language', 'and', 'mythology', '.'),\n",
              " ('and', 'mythology', '.', '_'),\n",
              " ('mythology', '.', '_', '_'),\n",
              " ('.', '_', '_', '_')]"
            ]
          },
          "metadata": {},
          "execution_count": 22
        }
      ]
    },
    {
      "cell_type": "markdown",
      "source": [
        "###Stemming\n",
        "\n",
        "Stemming is a process by which word endings or other affixes are removed or modified in order that word forms which differ in non-relevant ways may be merged and treated as equivalent. [link](https://link.springer.com/referenceworkentry/10.1007/978-1-4899-7993-3_942-2)"
      ],
      "metadata": {
        "id": "OWOXgN-VHc_z"
      }
    },
    {
      "cell_type": "code",
      "source": [
        "from nltk.stem import (PorterStemmer, LancasterStemmer)\n",
        "from nltk.stem.snowball import SnowballStemmer\n",
        "\n",
        "porter = PorterStemmer()\n",
        "lancaster = LancasterStemmer()\n",
        "snowball = SnowballStemmer(\"english\")\n",
        "\n",
        "print([porter.stem(t) for t in tokens])\n",
        "print([lancaster.stem(t) for t in tokens])\n",
        "print([snowball.stem(t) for t in tokens])"
      ],
      "metadata": {
        "colab": {
          "base_uri": "https://localhost:8080/"
        },
        "id": "6Csq9Sa-FBGJ",
        "outputId": "07cb93b5-948e-454a-f165-d103124608b2"
      },
      "execution_count": 23,
      "outputs": [
        {
          "output_type": "stream",
          "name": "stdout",
          "text": [
            "['tolkien', \"'s\", 'fantasi', 'book', 'on', 'middle-earth', ',', 'especi', 'the', 'lord', 'of', 'the', 'ring', 'and', 'the', 'silmarillion', ',', 'drew', 'on', 'a', 'wide', 'array', 'of', 'influenc', 'includ', 'hi', 'philolog', 'interest', 'in', 'languag', ',', 'christian', ',', 'mediev', ',', 'mytholog', ',', 'archaeolog', ',', 'ancient', 'and', 'modern', 'literatur', ',', 'and', 'person', 'experi', '.', 'hi', 'philolog', 'work', 'centr', 'on', 'the', 'studi', 'of', 'old', 'english', 'literatur', ',', 'especi', 'beowulf', ',', 'and', 'he', 'acknowledg', 'it', 'import', 'to', 'hi', 'write', '.', 'he', 'wa', 'a', 'gift', 'linguist', ',', 'influenc', 'by', 'german', ',', 'celtic', ',', 'finnish', ',', 'and', 'greek', 'languag', 'and', 'mytholog', '.']\n",
            "['tolky', \"'s\", 'fantasy', 'book', 'on', 'middle-earth', ',', 'espec', 'the', 'lord', 'of', 'the', 'ring', 'and', 'the', 'silmaril', ',', 'drew', 'on', 'a', 'wid', 'array', 'of', 'influ', 'includ', 'his', 'philolog', 'interest', 'in', 'langu', ',', 'christianity', ',', 'mediev', ',', 'mytholog', ',', 'archaeolog', ',', 'ant', 'and', 'modern', 'lit', ',', 'and', 'person', 'expery', '.', 'his', 'philolog', 'work', 'cent', 'on', 'the', 'study', 'of', 'old', 'engl', 'lit', ',', 'espec', 'beowulf', ',', 'and', 'he', 'acknowledg', 'it', 'import', 'to', 'his', 'writ', '.', 'he', 'was', 'a', 'gift', 'lingu', ',', 'influ', 'by', 'germ', ',', 'celt', ',', 'fin', ',', 'and', 'greek', 'langu', 'and', 'mytholog', '.']\n",
            "['tolkien', \"'s\", 'fantasi', 'book', 'on', 'middle-earth', ',', 'especi', 'the', 'lord', 'of', 'the', 'ring', 'and', 'the', 'silmarillion', ',', 'drew', 'on', 'a', 'wide', 'array', 'of', 'influenc', 'includ', 'his', 'philolog', 'interest', 'in', 'languag', ',', 'christian', ',', 'mediev', ',', 'mytholog', ',', 'archaeolog', ',', 'ancient', 'and', 'modern', 'literatur', ',', 'and', 'person', 'experi', '.', 'his', 'philolog', 'work', 'centr', 'on', 'the', 'studi', 'of', 'old', 'english', 'literatur', ',', 'especi', 'beowulf', ',', 'and', 'he', 'acknowledg', 'it', 'import', 'to', 'his', 'write', '.', 'he', 'was', 'a', 'gift', 'linguist', ',', 'influenc', 'by', 'german', ',', 'celtic', ',', 'finnish', ',', 'and', 'greek', 'languag', 'and', 'mytholog', '.']\n"
          ]
        }
      ]
    },
    {
      "cell_type": "markdown",
      "source": [
        "###Lemmatizing\n",
        "\n",
        "\n",
        "Lemmatization is a process of determining a base or dictionary form (lemma) for a given surface form. Especially for languages with rich morphology it is important to be able to normalize words into their base forms to better support for example search engines and linguistic studies. [link](https://arxiv.org/abs/1902.00972)"
      ],
      "metadata": {
        "id": "Dk34oeg2J9Mw"
      }
    },
    {
      "cell_type": "code",
      "source": [
        "nltk.download('wordnet')\n",
        "from nltk import WordNetLemmatizer\n",
        "\n",
        "wnl = WordNetLemmatizer()\n",
        "\n",
        "print([wnl.lemmatize(t, pos=\"v\") for t in tokens])"
      ],
      "metadata": {
        "colab": {
          "base_uri": "https://localhost:8080/"
        },
        "id": "moMtxDgLJ8MA",
        "outputId": "a9b989d8-ffb2-4caf-9f9e-5899672f9f8b"
      },
      "execution_count": 24,
      "outputs": [
        {
          "output_type": "stream",
          "name": "stdout",
          "text": [
            "['tolkien', \"'s\", 'fantasy', 'book', 'on', 'middle-earth', ',', 'especially', 'the', 'lord', 'of', 'the', 'ring', 'and', 'the', 'silmarillion', ',', 'draw', 'on', 'a', 'wide', 'array', 'of', 'influence', 'include', 'his', 'philological', 'interest', 'in', 'language', ',', 'christianity', ',', 'medievalism', ',', 'mythology', ',', 'archaeology', ',', 'ancient', 'and', 'modern', 'literature', ',', 'and', 'personal', 'experience', '.', 'his', 'philological', 'work', 'centre', 'on', 'the', 'study', 'of', 'old', 'english', 'literature', ',', 'especially', 'beowulf', ',', 'and', 'he', 'acknowledge', 'its', 'importance', 'to', 'his', 'write', '.', 'he', 'be', 'a', 'gift', 'linguist', ',', 'influence', 'by', 'germanic', ',', 'celtic', ',', 'finnish', ',', 'and', 'greek', 'language', 'and', 'mythology', '.']\n"
          ]
        },
        {
          "output_type": "stream",
          "name": "stderr",
          "text": [
            "[nltk_data] Downloading package wordnet to /root/nltk_data...\n",
            "[nltk_data]   Package wordnet is already up-to-date!\n"
          ]
        }
      ]
    },
    {
      "cell_type": "markdown",
      "source": [
        "###POS\n",
        "\"Part-of-speech (POS) tagging, also called grammatical tagging, is the automatic assignment of part-of-speech tags to words in a sentence. A POS is a grammatical classification that commonly includes verbs, adjectives, adverbs, nouns, etc.\" [Chiche, A. 2022] [link](https://journalofbigdata.springeropen.com/articles/10.1186/s40537-022-00561-y) \n",
        "\n",
        "\n",
        "|Tag |\tMeaning |\tEnglish Examples|\n",
        "|----|----------|-----------------|\n",
        "ADJ |\tadjective \t|new, good, high, special, big, local\n",
        "ADP \t|adposition \t|on, of, at, with, by, into, under\n",
        "ADV |\tadverb| \treally, already, still, early, now\n",
        "CONJ |\tconjunction |\tand, or, but, if, while, although\n",
        "DET \t|determiner, article |\tthe, a, some, most, every, no, which\n",
        "NOUN \t|noun |\tyear, home, costs, time, Africa\n",
        "NUM \t|numeral \t|twenty-four, fourth, 1991, 14:24\n",
        "PRT \t|particle |\tat, on, out, over per, that, up, with\n",
        "PRON \t|pronoun \t|he, their, her, its, my, I, us\n",
        "VERB \t|verb |\tis, say, told, given, playing, would\n",
        ". \t|punctuation marks |\t. , ; !\n",
        "X \t|other |\tersatz, esprit, dunno, gr8, univeristy"
      ],
      "metadata": {
        "id": "IWfFLc4rLC04"
      }
    },
    {
      "cell_type": "code",
      "source": [
        "nltk.download(\"tagsets\")\n",
        "#nltk.help.upenn_tagset()\n",
        "nltk.download('averaged_perceptron_tagger')\n",
        "nltk.pos_tag(tokens)"
      ],
      "metadata": {
        "colab": {
          "base_uri": "https://localhost:8080/"
        },
        "id": "upxqjNkrLB1u",
        "outputId": "46198655-d606-40a6-8142-70a179480d2e"
      },
      "execution_count": 25,
      "outputs": [
        {
          "output_type": "stream",
          "name": "stderr",
          "text": [
            "[nltk_data] Downloading package tagsets to /root/nltk_data...\n",
            "[nltk_data]   Package tagsets is already up-to-date!\n",
            "[nltk_data] Downloading package averaged_perceptron_tagger to\n",
            "[nltk_data]     /root/nltk_data...\n",
            "[nltk_data]   Package averaged_perceptron_tagger is already up-to-\n",
            "[nltk_data]       date!\n"
          ]
        },
        {
          "output_type": "execute_result",
          "data": {
            "text/plain": [
              "[('tolkien', 'NN'),\n",
              " (\"'s\", 'POS'),\n",
              " ('fantasy', 'JJ'),\n",
              " ('books', 'NNS'),\n",
              " ('on', 'IN'),\n",
              " ('middle-earth', 'NN'),\n",
              " (',', ','),\n",
              " ('especially', 'RB'),\n",
              " ('the', 'DT'),\n",
              " ('lord', 'NN'),\n",
              " ('of', 'IN'),\n",
              " ('the', 'DT'),\n",
              " ('rings', 'NNS'),\n",
              " ('and', 'CC'),\n",
              " ('the', 'DT'),\n",
              " ('silmarillion', 'NN'),\n",
              " (',', ','),\n",
              " ('drew', 'VBD'),\n",
              " ('on', 'IN'),\n",
              " ('a', 'DT'),\n",
              " ('wide', 'JJ'),\n",
              " ('array', 'NN'),\n",
              " ('of', 'IN'),\n",
              " ('influences', 'NNS'),\n",
              " ('including', 'VBG'),\n",
              " ('his', 'PRP$'),\n",
              " ('philological', 'JJ'),\n",
              " ('interest', 'NN'),\n",
              " ('in', 'IN'),\n",
              " ('language', 'NN'),\n",
              " (',', ','),\n",
              " ('christianity', 'NN'),\n",
              " (',', ','),\n",
              " ('medievalism', 'NN'),\n",
              " (',', ','),\n",
              " ('mythology', 'NN'),\n",
              " (',', ','),\n",
              " ('archaeology', 'NN'),\n",
              " (',', ','),\n",
              " ('ancient', 'NN'),\n",
              " ('and', 'CC'),\n",
              " ('modern', 'JJ'),\n",
              " ('literature', 'NN'),\n",
              " (',', ','),\n",
              " ('and', 'CC'),\n",
              " ('personal', 'JJ'),\n",
              " ('experience', 'NN'),\n",
              " ('.', '.'),\n",
              " ('his', 'PRP$'),\n",
              " ('philological', 'JJ'),\n",
              " ('work', 'NN'),\n",
              " ('centred', 'VBN'),\n",
              " ('on', 'IN'),\n",
              " ('the', 'DT'),\n",
              " ('study', 'NN'),\n",
              " ('of', 'IN'),\n",
              " ('old', 'JJ'),\n",
              " ('english', 'JJ'),\n",
              " ('literature', 'NN'),\n",
              " (',', ','),\n",
              " ('especially', 'RB'),\n",
              " ('beowulf', 'JJ'),\n",
              " (',', ','),\n",
              " ('and', 'CC'),\n",
              " ('he', 'PRP'),\n",
              " ('acknowledged', 'VBD'),\n",
              " ('its', 'PRP$'),\n",
              " ('importance', 'NN'),\n",
              " ('to', 'TO'),\n",
              " ('his', 'PRP$'),\n",
              " ('writings', 'NNS'),\n",
              " ('.', '.'),\n",
              " ('he', 'PRP'),\n",
              " ('was', 'VBD'),\n",
              " ('a', 'DT'),\n",
              " ('gifted', 'JJ'),\n",
              " ('linguist', 'NN'),\n",
              " (',', ','),\n",
              " ('influenced', 'VBN'),\n",
              " ('by', 'IN'),\n",
              " ('germanic', 'NN'),\n",
              " (',', ','),\n",
              " ('celtic', 'JJ'),\n",
              " (',', ','),\n",
              " ('finnish', 'JJ'),\n",
              " (',', ','),\n",
              " ('and', 'CC'),\n",
              " ('greek', 'JJ'),\n",
              " ('language', 'NN'),\n",
              " ('and', 'CC'),\n",
              " ('mythology', 'NN'),\n",
              " ('.', '.')]"
            ]
          },
          "metadata": {},
          "execution_count": 25
        }
      ]
    },
    {
      "cell_type": "markdown",
      "source": [
        "If you want an informative description of each tag, you can use the code below."
      ],
      "metadata": {
        "id": "4E-lMAsLn6Mi"
      }
    },
    {
      "cell_type": "code",
      "source": [
        "nltk.help.upenn_tagset('VBN')"
      ],
      "metadata": {
        "colab": {
          "base_uri": "https://localhost:8080/"
        },
        "id": "IVgjaPBFN2sc",
        "outputId": "fd54b939-78d8-4a9d-b59d-37cda67cba5f"
      },
      "execution_count": 15,
      "outputs": [
        {
          "output_type": "stream",
          "name": "stdout",
          "text": [
            "VBN: verb, past participle\n",
            "    multihulled dilapidated aerosolized chaired languished panelized used\n",
            "    experimented flourished imitated reunifed factored condensed sheared\n",
            "    unsettled primed dubbed desired ...\n"
          ]
        }
      ]
    },
    {
      "cell_type": "markdown",
      "source": [
        "##Homework\n",
        "\n",
        "1. Load the `Harry_potter_and_the_order_of_the_phoenix_chapter_1.txt` file from the `data` directory. Write a function to process the whole text and return one dictionary with the **verb's** root as the key and the list of occurrences of the **key-verb** as value. For example for this sentence: \n",
        " \"*The injustice of it all burst inside him so that he wanted to yell with fury, and he wanted to tell the whole world.*\" we would have this dictionary: \n",
        "```\n",
        "{\"want\":[11,19], \"yell\":[13], \"burst\":[5],\"tell\":[21]}\n",
        "```\n",
        "We consider the word position here. \n",
        "\n",
        "2. Write another program to take a verb from the user and search in the dictionary you made in Q.1 and return those sentences containing the verb or another form of the verb.\n",
        "\n",
        "\n",
        "3. Search about the Stop Word, and answer these questions: \n",
        "* What are the Stop Words? \n",
        "* In what kind of situation do they act as noise in our data and when do they help to have better results?\n",
        "* Can we remove the stop words using NLTK? \n",
        "\n",
        "4. We have 3 different texts, one is some of Shakespeare's poems `shakespeare.txt`, one is a scientific article from Wikipedia -`cognitive_revolution.txt`- and the other is one chapter of the Harry Potter book series `Harry_potter_and_the_order_of_the_phoenix_chapter_1.txt`.\n",
        "\n",
        " We want to calculate the readability of these texts. It means we want to know how easy each text is to understand. One of the most used readability measures is [flesch reading ease metric](https://readable.com/readability/flesch-reading-ease-flesch-kincaid-grade-level/) which is calculated based on the average number of words in a sentence and the average number of syllables in words. It's formula is: \n",
        "$206.835 - 1.015(\\frac{\\text{total words}}{\\text{total sentences}}) - 84.6(\\frac{\\text{total syllables}}{\\text{total words}})$\n",
        "\n",
        "calculate the readability measure for these 3 texts.\n",
        "\n",
        "Hint: The `nltk.tokenize.sent_tokenize` can be used for splitting the whole text into sentences. For `shakespeare.txt` you can use splitting by `\\n` to have each line as a separate sentence. \n",
        "\n",
        "\n",
        "______________________\n",
        "\n",
        "\n",
        "**Submit the code and the sample result for Q.1 and Q.2 and the result for Q.3 and Q.4 by 11-2-1402 at midnight. Please send an email to z.sarlak@iasbs.ac.ir with the title \"NLTK_HW1\".**"
      ],
      "metadata": {
        "id": "rzi9PRu7-orW"
      }
    }
  ]
}